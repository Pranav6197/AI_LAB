{
  "nbformat": 4,
  "nbformat_minor": 0,
  "metadata": {
    "colab": {
      "provenance": [],
      "toc_visible": true,
      "authorship_tag": "ABX9TyNLjo54p4Pe0nd4/smI+Lj/",
      "include_colab_link": true
    },
    "kernelspec": {
      "name": "python3",
      "display_name": "Python 3"
    },
    "language_info": {
      "name": "python"
    }
  },
  "cells": [
    {
      "cell_type": "markdown",
      "metadata": {
        "id": "view-in-github",
        "colab_type": "text"
      },
      "source": [
        "<a href=\"https://colab.research.google.com/github/Pranav6197/AI_LAB/blob/main/Untitled0.ipynb\" target=\"_parent\"><img src=\"https://colab.research.google.com/assets/colab-badge.svg\" alt=\"Open In Colab\"/></a>"
      ]
    },
    {
      "cell_type": "code",
      "execution_count": 1,
      "metadata": {
        "id": "yekthx53wJrh"
      },
      "outputs": [],
      "source": [
        "!pip install -q python-dotenv google-genai\n"
      ]
    },
    {
      "cell_type": "code",
      "source": [
        "# Load .env into environment (do not print the key)\n",
        "from dotenv import load_dotenv\n",
        "from pathlib import Path\n",
        "import os\n",
        "\n",
        "# candidate locations (adjust if your repo folder name differs)\n",
        "candidates = [\n",
        "    Path.cwd() / '.env',            # repo root (if you git-cloned repo into Colab)\n",
        "\n",
        "]\n",
        "\n",
        "loaded_from = None\n",
        "for p in candidates:\n",
        "    if p.exists():\n",
        "        load_dotenv(dotenv_path=p)\n",
        "        loaded_from = p\n",
        "        break\n",
        "\n",
        "if loaded_from:\n",
        "    print(f\"Loaded .env from: {loaded_from}\")\n",
        "else:\n",
        "    raise RuntimeError(\n",
        "        \"No .env found in known locations. Place your local .env (with GEMINI_API_KEY=...) \"\n",
        "        \"into the repo root, /content/.env, or /content/drive/MyDrive/.secrets/.env\"\n",
        "    )\n",
        "\n",
        "# safety: ensure key exists but do NOT print it\n",
        "API_KEY = os.getenv(\"GEMINI_API_KEY\")\n",
        "if not API_KEY:\n",
        "    raise RuntimeError(\"GEMINI_API_KEY not found in environment after loading .env.\")\n",
        "print(\"GEMINI_API_KEY present in environment (not printed).\")\n"
      ],
      "metadata": {
        "id": "fuiRJvrF1Il6",
        "outputId": "00b27234-0989-4899-fc52-29ea8eaeb052",
        "colab": {
          "base_uri": "https://localhost:8080/",
          "height": 228
        }
      },
      "execution_count": 2,
      "outputs": [
        {
          "output_type": "error",
          "ename": "RuntimeError",
          "evalue": "No .env found in known locations. Place your local .env (with GEMINI_API_KEY=...) into the repo root, /content/.env, or /content/drive/MyDrive/.secrets/.env",
          "traceback": [
            "\u001b[0;31m---------------------------------------------------------------------------\u001b[0m",
            "\u001b[0;31mRuntimeError\u001b[0m                              Traceback (most recent call last)",
            "\u001b[0;32m/tmp/ipython-input-1676883562.py\u001b[0m in \u001b[0;36m<cell line: 0>\u001b[0;34m()\u001b[0m\n\u001b[1;32m     20\u001b[0m     \u001b[0mprint\u001b[0m\u001b[0;34m(\u001b[0m\u001b[0;34mf\"Loaded .env from: {loaded_from}\"\u001b[0m\u001b[0;34m)\u001b[0m\u001b[0;34m\u001b[0m\u001b[0;34m\u001b[0m\u001b[0m\n\u001b[1;32m     21\u001b[0m \u001b[0;32melse\u001b[0m\u001b[0;34m:\u001b[0m\u001b[0;34m\u001b[0m\u001b[0;34m\u001b[0m\u001b[0m\n\u001b[0;32m---> 22\u001b[0;31m     raise RuntimeError(\n\u001b[0m\u001b[1;32m     23\u001b[0m         \u001b[0;34m\"No .env found in known locations. Place your local .env (with GEMINI_API_KEY=...) \"\u001b[0m\u001b[0;34m\u001b[0m\u001b[0;34m\u001b[0m\u001b[0m\n\u001b[1;32m     24\u001b[0m         \u001b[0;34m\"into the repo root, /content/.env, or /content/drive/MyDrive/.secrets/.env\"\u001b[0m\u001b[0;34m\u001b[0m\u001b[0;34m\u001b[0m\u001b[0m\n",
            "\u001b[0;31mRuntimeError\u001b[0m: No .env found in known locations. Place your local .env (with GEMINI_API_KEY=...) into the repo root, /content/.env, or /content/drive/MyDrive/.secrets/.env"
          ]
        }
      ]
    },
    {
      "cell_type": "code",
      "source": [
        "import google.generativeai as genai\n",
        "from pprint import pprint\n",
        "import os\n",
        "\n",
        "API_KEY = os.getenv(\"GEMINI_API_KEY\")  # already loaded in previous cell\n",
        "\n",
        "# configure SDK\n",
        "genai.configure(api_key=API_KEY)\n",
        "\n",
        "# minimal test generation — change model name if needed\n",
        "MODEL_NAME = \"gemini-1.5\"   # pick an available model for your account\n",
        "\n",
        "try:\n",
        "    model = genai.GenerativeModel(MODEL_NAME)\n",
        "    resp = model.generate_content(\"Write a 1-sentence summary of convolutional neural networks.\")\n",
        "    pprint(resp)  # inspect full object structure\n",
        "    # try common attributes for text\n",
        "    text = getattr(resp, \"text\", None) or getattr(resp, \"result\", None) or None\n",
        "    if text:\n",
        "        print(\"\\n--- Generated text ---\\n\")\n",
        "        print(text)\n",
        "    else:\n",
        "        print(\"\\nGeneration returned an object — inspect the printed object to find the text field.\")\n",
        "except Exception as e:\n",
        "    print(\"Model call failed. Check API key, model access, and internet. Exception:\", e)\n"
      ],
      "metadata": {
        "id": "BXfiJXjq5lyc"
      },
      "execution_count": null,
      "outputs": []
    }
  ]
}